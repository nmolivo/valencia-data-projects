{
 "cells": [
  {
   "cell_type": "code",
   "execution_count": 1,
   "metadata": {
    "collapsed": true
   },
   "outputs": [],
   "source": [
    "#Plaza Ayuntamiento @39.4697661,-0.4113992\n",
    "#Church of San Juan del Hospital @39.4743981,-0.3814647\n",
    "#Torres de los Serranos @39.4791963,-0.378187"
   ]
  },
  {
   "cell_type": "code",
   "execution_count": 20,
   "metadata": {
    "collapsed": true
   },
   "outputs": [],
   "source": [
    "import geopy.distance\n",
    "import numpy as np\n",
    "import pandas as pd\n",
    "from datetime import datetime\n",
    "from math import sin, cos, sqrt, atan2, radians"
   ]
  },
  {
   "cell_type": "code",
   "execution_count": 3,
   "metadata": {
    "collapsed": true
   },
   "outputs": [],
   "source": [
    "df = pd.read_csv('../vb_data/data.csv')"
   ]
  },
  {
   "cell_type": "code",
   "execution_count": 7,
   "metadata": {
    "collapsed": false
   },
   "outputs": [],
   "source": [
    "df.drop(['Unnamed: 0'], axis =1, inplace = True)"
   ]
  },
  {
   "cell_type": "code",
   "execution_count": 10,
   "metadata": {
    "collapsed": true
   },
   "outputs": [],
   "source": [
    "loc_names = {'PzaAyun-dist':[39.4697661,-0.4113992], \n",
    "             'SJChurch-dist':[39.4743981,-0.3814647], \n",
    "             'TorresS-dist':[39.4791963,-0.378187]}"
   ]
  },
  {
   "cell_type": "code",
   "execution_count": 21,
   "metadata": {
    "collapsed": false
   },
   "outputs": [],
   "source": [
    "for key, value in loc_names.items():\n",
    "    a_list = []\n",
    "    col_name = key\n",
    "    lat1 = value[0]\n",
    "    long1 = value[1]\n",
    "    for i in range(0,len(df)):\n",
    "        coords_1 = (lat1, long1)\n",
    "        coords_2 = (df['Lat'][i], df['Long'][i])\n",
    "        dist = geopy.distance.vincenty(coords_1, coords_2).km\n",
    "        a_list.append(dist)\n",
    "    df[col_name] = a_list"
   ]
  },
  {
   "cell_type": "code",
   "execution_count": 23,
   "metadata": {
    "collapsed": true
   },
   "outputs": [],
   "source": [
    "df['update'] = [datetime.strptime(x, '%d/%m/%Y %H:%M:%S') for x in df['update']]"
   ]
  },
  {
   "cell_type": "code",
   "execution_count": 31,
   "metadata": {
    "collapsed": false
   },
   "outputs": [
    {
     "data": {
      "text/plain": [
       "5"
      ]
     },
     "execution_count": 31,
     "metadata": {},
     "output_type": "execute_result"
    }
   ],
   "source": [
    "df['update'][0].hour"
   ]
  },
  {
   "cell_type": "code",
   "execution_count": 29,
   "metadata": {
    "collapsed": false
   },
   "outputs": [],
   "source": [
    "df['crida'] = [1 if x.day == 25 else 0 for x in df['update']]"
   ]
  },
  {
   "cell_type": "code",
   "execution_count": 32,
   "metadata": {
    "collapsed": false
   },
   "outputs": [],
   "source": [
    "df['hour'] = [x.hour for x in df['update']]"
   ]
  },
  {
   "cell_type": "code",
   "execution_count": 33,
   "metadata": {
    "collapsed": true
   },
   "outputs": [],
   "source": [
    "from statsmodels.genmod.generalized_linear_model import GLM\n",
    "from statsmodels.genmod.generalized_estimating_equations import GEE\n",
    "from statsmodels.genmod.cov_struct import (Exchangeable, Independence, Autoregressive)\n",
    "from statsmodels.genmod.families import Poisson\n",
    "\n",
    "%matplotlib inline"
   ]
  },
  {
   "cell_type": "code",
   "execution_count": 44,
   "metadata": {
    "collapsed": false
   },
   "outputs": [],
   "source": [
    "df.rename(columns={'SJChurch-dist': 'SJChurch', 'PzaAyun-dist': 'PzaAyun', 'TorresS-dist':'Torres'}, inplace = True)"
   ]
  },
  {
   "cell_type": "code",
   "execution_count": 45,
   "metadata": {
    "collapsed": false
   },
   "outputs": [
    {
     "data": {
      "text/html": [
       "<div>\n",
       "<style>\n",
       "    .dataframe thead tr:only-child th {\n",
       "        text-align: right;\n",
       "    }\n",
       "\n",
       "    .dataframe thead th {\n",
       "        text-align: left;\n",
       "    }\n",
       "\n",
       "    .dataframe tbody tr th {\n",
       "        vertical-align: top;\n",
       "    }\n",
       "</style>\n",
       "<table border=\"1\" class=\"dataframe\">\n",
       "  <thead>\n",
       "    <tr style=\"text-align: right;\">\n",
       "      <th></th>\n",
       "      <th>update</th>\n",
       "      <th>available</th>\n",
       "      <th>free</th>\n",
       "      <th>total</th>\n",
       "      <th>number</th>\n",
       "      <th>open</th>\n",
       "      <th>ticket</th>\n",
       "      <th>name</th>\n",
       "      <th>Long</th>\n",
       "      <th>Lat</th>\n",
       "      <th>SJChurch</th>\n",
       "      <th>PzaAyun</th>\n",
       "      <th>Torres</th>\n",
       "      <th>crida</th>\n",
       "      <th>hour</th>\n",
       "    </tr>\n",
       "  </thead>\n",
       "  <tbody>\n",
       "    <tr>\n",
       "      <th>0</th>\n",
       "      <td>2018-02-20 05:27:07</td>\n",
       "      <td>0</td>\n",
       "      <td>24</td>\n",
       "      <td>25</td>\n",
       "      <td>4</td>\n",
       "      <td>T</td>\n",
       "      <td>T</td>\n",
       "      <td>004_PLAZA_DE_LA_VIRGEN_CALLE_BAILIA</td>\n",
       "      <td>-0.375341</td>\n",
       "      <td>39.476747</td>\n",
       "      <td>0.587944</td>\n",
       "      <td>3.198046</td>\n",
       "      <td>0.365928</td>\n",
       "      <td>0</td>\n",
       "      <td>5</td>\n",
       "    </tr>\n",
       "    <tr>\n",
       "      <th>1</th>\n",
       "      <td>2018-02-20 05:27:07</td>\n",
       "      <td>3</td>\n",
       "      <td>17</td>\n",
       "      <td>20</td>\n",
       "      <td>7</td>\n",
       "      <td>T</td>\n",
       "      <td>T</td>\n",
       "      <td>007_PZA_DEL_MERCADO_TAULA_DE_CANVIS</td>\n",
       "      <td>-0.379184</td>\n",
       "      <td>39.474872</td>\n",
       "      <td>0.203201</td>\n",
       "      <td>2.829435</td>\n",
       "      <td>0.487673</td>\n",
       "      <td>0</td>\n",
       "      <td>5</td>\n",
       "    </tr>\n",
       "    <tr>\n",
       "      <th>2</th>\n",
       "      <td>2018-02-20 05:27:07</td>\n",
       "      <td>14</td>\n",
       "      <td>0</td>\n",
       "      <td>15</td>\n",
       "      <td>168</td>\n",
       "      <td>T</td>\n",
       "      <td>F</td>\n",
       "      <td>168_AVDA. MALVARROSA</td>\n",
       "      <td>-0.327885</td>\n",
       "      <td>39.476871</td>\n",
       "      <td>4.618310</td>\n",
       "      <td>7.229214</td>\n",
       "      <td>4.335658</td>\n",
       "      <td>0</td>\n",
       "      <td>5</td>\n",
       "    </tr>\n",
       "    <tr>\n",
       "      <th>3</th>\n",
       "      <td>2018-02-20 05:27:07</td>\n",
       "      <td>0</td>\n",
       "      <td>16</td>\n",
       "      <td>16</td>\n",
       "      <td>229</td>\n",
       "      <td>T</td>\n",
       "      <td>F</td>\n",
       "      <td>229_CALLE_AITANA_ESQ_AVDA_BURJASSOT</td>\n",
       "      <td>-0.394805</td>\n",
       "      <td>39.493104</td>\n",
       "      <td>2.372876</td>\n",
       "      <td>2.958428</td>\n",
       "      <td>2.104336</td>\n",
       "      <td>0</td>\n",
       "      <td>5</td>\n",
       "    </tr>\n",
       "    <tr>\n",
       "      <th>4</th>\n",
       "      <td>2018-02-20 05:27:07</td>\n",
       "      <td>2</td>\n",
       "      <td>18</td>\n",
       "      <td>20</td>\n",
       "      <td>248</td>\n",
       "      <td>T</td>\n",
       "      <td>F</td>\n",
       "      <td>248_AVDA_TRES_CRUCES_JOSE_MARIA_MORTES_LERMA</td>\n",
       "      <td>-0.404968</td>\n",
       "      <td>39.462840</td>\n",
       "      <td>2.395227</td>\n",
       "      <td>0.947400</td>\n",
       "      <td>2.933968</td>\n",
       "      <td>0</td>\n",
       "      <td>5</td>\n",
       "    </tr>\n",
       "  </tbody>\n",
       "</table>\n",
       "</div>"
      ],
      "text/plain": [
       "               update  available  free  total  number open ticket  \\\n",
       "0 2018-02-20 05:27:07          0    24     25       4    T      T   \n",
       "1 2018-02-20 05:27:07          3    17     20       7    T      T   \n",
       "2 2018-02-20 05:27:07         14     0     15     168    T      F   \n",
       "3 2018-02-20 05:27:07          0    16     16     229    T      F   \n",
       "4 2018-02-20 05:27:07          2    18     20     248    T      F   \n",
       "\n",
       "                                           name      Long        Lat  \\\n",
       "0           004_PLAZA_DE_LA_VIRGEN_CALLE_BAILIA -0.375341  39.476747   \n",
       "1           007_PZA_DEL_MERCADO_TAULA_DE_CANVIS -0.379184  39.474872   \n",
       "2                          168_AVDA. MALVARROSA -0.327885  39.476871   \n",
       "3           229_CALLE_AITANA_ESQ_AVDA_BURJASSOT -0.394805  39.493104   \n",
       "4  248_AVDA_TRES_CRUCES_JOSE_MARIA_MORTES_LERMA -0.404968  39.462840   \n",
       "\n",
       "   SJChurch   PzaAyun    Torres  crida  hour  \n",
       "0  0.587944  3.198046  0.365928      0     5  \n",
       "1  0.203201  2.829435  0.487673      0     5  \n",
       "2  4.618310  7.229214  4.335658      0     5  \n",
       "3  2.372876  2.958428  2.104336      0     5  \n",
       "4  2.395227  0.947400  2.933968      0     5  "
      ]
     },
     "execution_count": 45,
     "metadata": {},
     "output_type": "execute_result"
    }
   ],
   "source": [
    "df.head()"
   ]
  },
  {
   "cell_type": "code",
   "execution_count": 62,
   "metadata": {
    "collapsed": true
   },
   "outputs": [],
   "source": [
    "df.to_csv('../vb_data/df_dist')"
   ]
  },
  {
   "cell_type": "markdown",
   "metadata": {},
   "source": [
    "### We want our target variable to penalize being further away from .5 full because VB is optimized when each station can be (1) borrowed from *and* (2) docked at"
   ]
  },
  {
   "cell_type": "code",
   "execution_count": 54,
   "metadata": {
    "collapsed": false
   },
   "outputs": [],
   "source": [
    "df['target'] = (df['available']/df['total'])"
   ]
  },
  {
   "cell_type": "code",
   "execution_count": 56,
   "metadata": {
    "collapsed": false
   },
   "outputs": [],
   "source": [
    "df['target2'] = [x if x <= .5 else (.5-(x-.5)) for x in df['target']]"
   ]
  },
  {
   "cell_type": "code",
   "execution_count": 58,
   "metadata": {
    "collapsed": false
   },
   "outputs": [],
   "source": [
    "df['target2'] = 2*df['target2']"
   ]
  },
  {
   "cell_type": "code",
   "execution_count": 60,
   "metadata": {
    "collapsed": false
   },
   "outputs": [
    {
     "name": "stdout",
     "output_type": "stream",
     "text": [
      "                 Generalized Linear Model Regression Results                  \n",
      "==============================================================================\n",
      "Dep. Variable:                target2   No. Observations:               273000\n",
      "Model:                            GLM   Df Residuals:                   272994\n",
      "Model Family:                 Poisson   Df Model:                            5\n",
      "Link Function:                    log   Scale:                             1.0\n",
      "Method:                          IRLS   Log-Likelihood:            -1.9700e+05\n",
      "Date:                Mon, 12 Mar 2018   Deviance:                       76300.\n",
      "Time:                        18:22:10   Pearson chi2:                 6.19e+04\n",
      "No. Iterations:                     5                                         \n",
      "==============================================================================\n",
      "                 coef    std err          z      P>|z|      [0.025      0.975]\n",
      "------------------------------------------------------------------------------\n",
      "Intercept     -0.8646      0.010    -88.067      0.000      -0.884      -0.845\n",
      "SJChurch       0.0116      0.011      1.066      0.286      -0.010       0.033\n",
      "PzaAyun       -0.0325      0.003    -11.832      0.000      -0.038      -0.027\n",
      "Torres         0.0199      0.009      2.168      0.030       0.002       0.038\n",
      "crida         -0.0496      0.010     -4.892      0.000      -0.069      -0.030\n",
      "hour           0.0068      0.000     15.746      0.000       0.006       0.008\n",
      "==============================================================================\n"
     ]
    }
   ],
   "source": [
    "fam = Poisson()\n",
    "m1 = GLM.from_formula('target2 ~ SJChurch + PzaAyun + Torres + crida + hour',  \n",
    "                      df, family=fam)\n",
    "r1 = m1.fit()\n",
    "print(r1.summary())"
   ]
  },
  {
   "cell_type": "code",
   "execution_count": 48,
   "metadata": {
    "collapsed": true
   },
   "outputs": [],
   "source": [
    "df.drop_duplicates(inplace=True)"
   ]
  },
  {
   "cell_type": "code",
   "execution_count": 61,
   "metadata": {
    "collapsed": false
   },
   "outputs": [
    {
     "name": "stdout",
     "output_type": "stream",
     "text": [
      "                            OLS Regression Results                            \n",
      "==============================================================================\n",
      "Dep. Variable:                target2   R-squared:                       0.008\n",
      "Model:                            OLS   Adj. R-squared:                  0.008\n",
      "Method:                 Least Squares   F-statistic:                     462.8\n",
      "Date:                Mon, 12 Mar 2018   Prob (F-statistic):               0.00\n",
      "Time:                        18:52:29   Log-Likelihood:                -69202.\n",
      "No. Observations:              273000   AIC:                         1.384e+05\n",
      "Df Residuals:                  272994   BIC:                         1.385e+05\n",
      "Df Model:                           5                                         \n",
      "Covariance Type:            nonrobust                                         \n",
      "==============================================================================\n",
      "                 coef    std err          t      P>|t|      [0.025      0.975]\n",
      "------------------------------------------------------------------------------\n",
      "SJChurch       0.0057      0.002      2.564      0.010       0.001       0.010\n",
      "PzaAyun       -0.0145      0.001    -25.143      0.000      -0.016      -0.013\n",
      "Torres         0.0084      0.002      4.451      0.000       0.005       0.012\n",
      "crida         -0.0210      0.002    -10.304      0.000      -0.025      -0.017\n",
      "hour           0.0029   8.79e-05     33.190      0.000       0.003       0.003\n",
      "const          0.4225      0.002    211.116      0.000       0.419       0.426\n",
      "==============================================================================\n",
      "Omnibus:                   311251.038   Durbin-Watson:                   1.863\n",
      "Prob(Omnibus):                  0.000   Jarque-Bera (JB):            18257.572\n",
      "Skew:                           0.162   Prob(JB):                         0.00\n",
      "Kurtosis:                       1.775   Cond. No.                         71.9\n",
      "==============================================================================\n",
      "\n",
      "Warnings:\n",
      "[1] Standard Errors assume that the covariance matrix of the errors is correctly specified.\n"
     ]
    }
   ],
   "source": [
    "model_data = df[['SJChurch', 'PzaAyun', 'Torres', 'crida', 'hour']]\n",
    "model_datac = sm.add_constant(model_data, prepend=False)\n",
    "\n",
    "mod = sm.OLS(df['target2'], model_datac)\n",
    "\n",
    "res = mod.fit()\n",
    "\n",
    "print(res.summary())"
   ]
  },
  {
   "cell_type": "code",
   "execution_count": null,
   "metadata": {
    "collapsed": true
   },
   "outputs": [],
   "source": []
  }
 ],
 "metadata": {
  "anaconda-cloud": {},
  "kernelspec": {
   "display_name": "Python [conda root]",
   "language": "python",
   "name": "conda-root-py"
  },
  "language_info": {
   "codemirror_mode": {
    "name": "ipython",
    "version": 3
   },
   "file_extension": ".py",
   "mimetype": "text/x-python",
   "name": "python",
   "nbconvert_exporter": "python",
   "pygments_lexer": "ipython3",
   "version": "3.5.2"
  }
 },
 "nbformat": 4,
 "nbformat_minor": 2
}
