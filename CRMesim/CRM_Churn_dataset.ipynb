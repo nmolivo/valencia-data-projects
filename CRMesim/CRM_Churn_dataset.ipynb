{
 "cells": [
  {
   "cell_type": "code",
   "execution_count": 2,
   "metadata": {
    "collapsed": true
   },
   "outputs": [],
   "source": [
    "import pandas as pd"
   ]
  },
  {
   "cell_type": "code",
<<<<<<< HEAD
   "execution_count": 26,
   "metadata": {
    "collapsed": false
   },
   "outputs": [],
   "source": [
    "df = pd.read_csv(\"../CHURN.csv\")"
=======
   "execution_count": 22,
   "metadata": {
    "collapsed": true
   },
   "outputs": [],
   "source": [
    "df = pd.read_csv(\"/Users/nicoleeickhoff/Desktop/data_projects/valencia-data-projects/CHURN.csv\")"
>>>>>>> 2e9a277389e13d014014fa5953b79125671b8046
   ]
  },
  {
   "cell_type": "code",
<<<<<<< HEAD
   "execution_count": 27,
=======
   "execution_count": 3,
>>>>>>> 2e9a277389e13d014014fa5953b79125671b8046
   "metadata": {
    "collapsed": false
   },
   "outputs": [
    {
     "data": {
      "text/html": [
       "<div>\n",
       "<table border=\"1\" class=\"dataframe\">\n",
       "  <thead>\n",
       "    <tr style=\"text-align: right;\">\n",
       "      <th></th>\n",
       "      <th>customerID</th>\n",
       "      <th>gender</th>\n",
       "      <th>SeniorCitizen</th>\n",
       "      <th>Partner</th>\n",
       "      <th>Dependents</th>\n",
       "      <th>tenure</th>\n",
       "      <th>PhoneService</th>\n",
       "      <th>MultipleLines</th>\n",
       "      <th>InternetService</th>\n",
       "      <th>OnlineSecurity</th>\n",
       "      <th>...</th>\n",
       "      <th>DeviceProtection</th>\n",
       "      <th>TechSupport</th>\n",
       "      <th>StreamingTV</th>\n",
       "      <th>StreamingMovies</th>\n",
       "      <th>Contract</th>\n",
       "      <th>PaperlessBilling</th>\n",
       "      <th>PaymentMethod</th>\n",
       "      <th>MonthlyCharges</th>\n",
       "      <th>TotalCharges</th>\n",
       "      <th>Churn</th>\n",
       "    </tr>\n",
       "  </thead>\n",
       "  <tbody>\n",
       "    <tr>\n",
       "      <th>0</th>\n",
       "      <td>7590-VHVEG</td>\n",
       "      <td>Female</td>\n",
       "      <td>0</td>\n",
       "      <td>Yes</td>\n",
       "      <td>No</td>\n",
       "      <td>1</td>\n",
       "      <td>No</td>\n",
       "      <td>No phone service</td>\n",
       "      <td>DSL</td>\n",
       "      <td>No</td>\n",
       "      <td>...</td>\n",
       "      <td>No</td>\n",
       "      <td>No</td>\n",
       "      <td>No</td>\n",
       "      <td>No</td>\n",
       "      <td>Month-to-month</td>\n",
       "      <td>Yes</td>\n",
       "      <td>Electronic check</td>\n",
       "      <td>29.85</td>\n",
       "      <td>29.85</td>\n",
       "      <td>No</td>\n",
       "    </tr>\n",
       "    <tr>\n",
       "      <th>1</th>\n",
       "      <td>5575-GNVDE</td>\n",
       "      <td>Male</td>\n",
       "      <td>0</td>\n",
       "      <td>No</td>\n",
       "      <td>No</td>\n",
       "      <td>34</td>\n",
       "      <td>Yes</td>\n",
       "      <td>No</td>\n",
       "      <td>DSL</td>\n",
       "      <td>Yes</td>\n",
       "      <td>...</td>\n",
       "      <td>Yes</td>\n",
       "      <td>No</td>\n",
       "      <td>No</td>\n",
       "      <td>No</td>\n",
       "      <td>One year</td>\n",
       "      <td>No</td>\n",
       "      <td>Mailed check</td>\n",
       "      <td>56.95</td>\n",
       "      <td>1889.5</td>\n",
       "      <td>No</td>\n",
       "    </tr>\n",
       "    <tr>\n",
       "      <th>2</th>\n",
       "      <td>3668-QPYBK</td>\n",
       "      <td>Male</td>\n",
       "      <td>0</td>\n",
       "      <td>No</td>\n",
       "      <td>No</td>\n",
       "      <td>2</td>\n",
       "      <td>Yes</td>\n",
       "      <td>No</td>\n",
       "      <td>DSL</td>\n",
       "      <td>Yes</td>\n",
       "      <td>...</td>\n",
       "      <td>No</td>\n",
       "      <td>No</td>\n",
       "      <td>No</td>\n",
       "      <td>No</td>\n",
       "      <td>Month-to-month</td>\n",
       "      <td>Yes</td>\n",
       "      <td>Mailed check</td>\n",
       "      <td>53.85</td>\n",
       "      <td>108.15</td>\n",
       "      <td>Yes</td>\n",
       "    </tr>\n",
       "    <tr>\n",
       "      <th>3</th>\n",
       "      <td>7795-CFOCW</td>\n",
       "      <td>Male</td>\n",
       "      <td>0</td>\n",
       "      <td>No</td>\n",
       "      <td>No</td>\n",
       "      <td>45</td>\n",
       "      <td>No</td>\n",
       "      <td>No phone service</td>\n",
       "      <td>DSL</td>\n",
       "      <td>Yes</td>\n",
       "      <td>...</td>\n",
       "      <td>Yes</td>\n",
       "      <td>Yes</td>\n",
       "      <td>No</td>\n",
       "      <td>No</td>\n",
       "      <td>One year</td>\n",
       "      <td>No</td>\n",
       "      <td>Bank transfer (automatic)</td>\n",
       "      <td>42.30</td>\n",
       "      <td>1840.75</td>\n",
       "      <td>No</td>\n",
       "    </tr>\n",
       "    <tr>\n",
       "      <th>4</th>\n",
       "      <td>9237-HQITU</td>\n",
       "      <td>Female</td>\n",
       "      <td>0</td>\n",
       "      <td>No</td>\n",
       "      <td>No</td>\n",
       "      <td>2</td>\n",
       "      <td>Yes</td>\n",
       "      <td>No</td>\n",
       "      <td>Fiber optic</td>\n",
       "      <td>No</td>\n",
       "      <td>...</td>\n",
       "      <td>No</td>\n",
       "      <td>No</td>\n",
       "      <td>No</td>\n",
       "      <td>No</td>\n",
       "      <td>Month-to-month</td>\n",
       "      <td>Yes</td>\n",
       "      <td>Electronic check</td>\n",
       "      <td>70.70</td>\n",
       "      <td>151.65</td>\n",
       "      <td>Yes</td>\n",
       "    </tr>\n",
       "  </tbody>\n",
       "</table>\n",
       "<p>5 rows × 21 columns</p>\n",
       "</div>"
      ],
      "text/plain": [
       "   customerID  gender  SeniorCitizen Partner Dependents  tenure PhoneService  \\\n",
       "0  7590-VHVEG  Female              0     Yes         No       1           No   \n",
       "1  5575-GNVDE    Male              0      No         No      34          Yes   \n",
       "2  3668-QPYBK    Male              0      No         No       2          Yes   \n",
       "3  7795-CFOCW    Male              0      No         No      45           No   \n",
       "4  9237-HQITU  Female              0      No         No       2          Yes   \n",
       "\n",
       "      MultipleLines InternetService OnlineSecurity  ...  DeviceProtection  \\\n",
       "0  No phone service             DSL             No  ...                No   \n",
       "1                No             DSL            Yes  ...               Yes   \n",
       "2                No             DSL            Yes  ...                No   \n",
       "3  No phone service             DSL            Yes  ...               Yes   \n",
       "4                No     Fiber optic             No  ...                No   \n",
       "\n",
       "  TechSupport StreamingTV StreamingMovies        Contract PaperlessBilling  \\\n",
       "0          No          No              No  Month-to-month              Yes   \n",
       "1          No          No              No        One year               No   \n",
       "2          No          No              No  Month-to-month              Yes   \n",
       "3         Yes          No              No        One year               No   \n",
       "4          No          No              No  Month-to-month              Yes   \n",
       "\n",
       "               PaymentMethod MonthlyCharges  TotalCharges Churn  \n",
       "0           Electronic check          29.85         29.85    No  \n",
       "1               Mailed check          56.95        1889.5    No  \n",
       "2               Mailed check          53.85        108.15   Yes  \n",
       "3  Bank transfer (automatic)          42.30       1840.75    No  \n",
       "4           Electronic check          70.70        151.65   Yes  \n",
       "\n",
       "[5 rows x 21 columns]"
      ]
     },
<<<<<<< HEAD
     "execution_count": 27,
=======
     "execution_count": 3,
>>>>>>> 2e9a277389e13d014014fa5953b79125671b8046
     "metadata": {},
     "output_type": "execute_result"
    }
   ],
   "source": [
    "df.head()"
   ]
  },
  {
   "cell_type": "code",
   "execution_count": 6,
   "metadata": {
    "collapsed": false
   },
   "outputs": [
    {
     "name": "stdout",
     "output_type": "stream",
     "text": [
      "(7043, 21)\n"
     ]
    }
   ],
   "source": [
    "print df.shape"
   ]
  },
  {
   "cell_type": "code",
   "execution_count": 7,
   "metadata": {
    "collapsed": false
   },
   "outputs": [
    {
     "name": "stdout",
     "output_type": "stream",
     "text": [
      "Index([u'customerID', u'gender', u'SeniorCitizen', u'Partner', u'Dependents',\n",
      "       u'tenure', u'PhoneService', u'MultipleLines', u'InternetService',\n",
      "       u'OnlineSecurity', u'OnlineBackup', u'DeviceProtection', u'TechSupport',\n",
      "       u'StreamingTV', u'StreamingMovies', u'Contract', u'PaperlessBilling',\n",
      "       u'PaymentMethod', u'MonthlyCharges', u'TotalCharges', u'Churn'],\n",
      "      dtype='object')\n"
     ]
    }
   ],
   "source": [
    "print df.columns"
   ]
  },
  {
   "cell_type": "code",
   "execution_count": 8,
   "metadata": {
    "collapsed": false
   },
   "outputs": [
    {
     "data": {
      "text/plain": [
       "No     5174\n",
       "Yes    1869\n",
       "Name: Churn, dtype: int64"
      ]
     },
     "execution_count": 8,
     "metadata": {},
     "output_type": "execute_result"
    }
   ],
   "source": [
    "df.Churn.value_counts()\n",
    "# unbalanced classes\n"
   ]
  },
  {
   "cell_type": "code",
   "execution_count": 23,
   "metadata": {
    "collapsed": false
   },
   "outputs": [
    {
     "data": {
      "text/html": [
       "<div>\n",
       "<table border=\"1\" class=\"dataframe\">\n",
       "  <thead>\n",
       "    <tr style=\"text-align: right;\">\n",
       "      <th></th>\n",
       "      <th>customerID</th>\n",
       "      <th>gender</th>\n",
       "      <th>SeniorCitizen</th>\n",
       "      <th>Partner</th>\n",
       "      <th>Dependents</th>\n",
       "      <th>tenure</th>\n",
       "      <th>PhoneService</th>\n",
       "      <th>MultipleLines</th>\n",
       "      <th>InternetService</th>\n",
       "      <th>OnlineSecurity</th>\n",
       "      <th>...</th>\n",
       "      <th>DeviceProtection</th>\n",
       "      <th>TechSupport</th>\n",
       "      <th>StreamingTV</th>\n",
       "      <th>StreamingMovies</th>\n",
       "      <th>Contract</th>\n",
       "      <th>PaperlessBilling</th>\n",
       "      <th>PaymentMethod</th>\n",
       "      <th>MonthlyCharges</th>\n",
       "      <th>TotalCharges</th>\n",
       "      <th>Churn</th>\n",
       "    </tr>\n",
       "  </thead>\n",
       "  <tbody>\n",
       "    <tr>\n",
       "      <th>0</th>\n",
       "      <td>7590-VHVEG</td>\n",
       "      <td>Female</td>\n",
       "      <td>0</td>\n",
       "      <td>1</td>\n",
       "      <td>No</td>\n",
       "      <td>1</td>\n",
       "      <td>No</td>\n",
       "      <td>No phone service</td>\n",
       "      <td>DSL</td>\n",
       "      <td>No</td>\n",
       "      <td>...</td>\n",
       "      <td>No</td>\n",
       "      <td>No</td>\n",
       "      <td>No</td>\n",
       "      <td>No</td>\n",
       "      <td>Month-to-month</td>\n",
       "      <td>Yes</td>\n",
       "      <td>Electronic check</td>\n",
       "      <td>29.85</td>\n",
       "      <td>29.85</td>\n",
       "      <td>0</td>\n",
       "    </tr>\n",
       "    <tr>\n",
       "      <th>1</th>\n",
       "      <td>5575-GNVDE</td>\n",
       "      <td>Male</td>\n",
       "      <td>0</td>\n",
       "      <td>0</td>\n",
       "      <td>No</td>\n",
       "      <td>34</td>\n",
       "      <td>Yes</td>\n",
       "      <td>No</td>\n",
       "      <td>DSL</td>\n",
       "      <td>Yes</td>\n",
       "      <td>...</td>\n",
       "      <td>Yes</td>\n",
       "      <td>No</td>\n",
       "      <td>No</td>\n",
       "      <td>No</td>\n",
       "      <td>One year</td>\n",
       "      <td>No</td>\n",
       "      <td>Mailed check</td>\n",
       "      <td>56.95</td>\n",
       "      <td>1889.5</td>\n",
       "      <td>0</td>\n",
       "    </tr>\n",
       "    <tr>\n",
       "      <th>2</th>\n",
       "      <td>3668-QPYBK</td>\n",
       "      <td>Male</td>\n",
       "      <td>0</td>\n",
       "      <td>0</td>\n",
       "      <td>No</td>\n",
       "      <td>2</td>\n",
       "      <td>Yes</td>\n",
       "      <td>No</td>\n",
       "      <td>DSL</td>\n",
       "      <td>Yes</td>\n",
       "      <td>...</td>\n",
       "      <td>No</td>\n",
       "      <td>No</td>\n",
       "      <td>No</td>\n",
       "      <td>No</td>\n",
       "      <td>Month-to-month</td>\n",
       "      <td>Yes</td>\n",
       "      <td>Mailed check</td>\n",
       "      <td>53.85</td>\n",
       "      <td>108.15</td>\n",
       "      <td>1</td>\n",
       "    </tr>\n",
       "    <tr>\n",
       "      <th>3</th>\n",
       "      <td>7795-CFOCW</td>\n",
       "      <td>Male</td>\n",
       "      <td>0</td>\n",
       "      <td>0</td>\n",
       "      <td>No</td>\n",
       "      <td>45</td>\n",
       "      <td>No</td>\n",
       "      <td>No phone service</td>\n",
       "      <td>DSL</td>\n",
       "      <td>Yes</td>\n",
       "      <td>...</td>\n",
       "      <td>Yes</td>\n",
       "      <td>Yes</td>\n",
       "      <td>No</td>\n",
       "      <td>No</td>\n",
       "      <td>One year</td>\n",
       "      <td>No</td>\n",
       "      <td>Bank transfer (automatic)</td>\n",
       "      <td>42.30</td>\n",
       "      <td>1840.75</td>\n",
       "      <td>0</td>\n",
       "    </tr>\n",
       "    <tr>\n",
       "      <th>4</th>\n",
       "      <td>9237-HQITU</td>\n",
       "      <td>Female</td>\n",
       "      <td>0</td>\n",
       "      <td>0</td>\n",
       "      <td>No</td>\n",
       "      <td>2</td>\n",
       "      <td>Yes</td>\n",
       "      <td>No</td>\n",
       "      <td>Fiber optic</td>\n",
       "      <td>No</td>\n",
       "      <td>...</td>\n",
       "      <td>No</td>\n",
       "      <td>No</td>\n",
       "      <td>No</td>\n",
       "      <td>No</td>\n",
       "      <td>Month-to-month</td>\n",
       "      <td>Yes</td>\n",
       "      <td>Electronic check</td>\n",
       "      <td>70.70</td>\n",
       "      <td>151.65</td>\n",
       "      <td>1</td>\n",
       "    </tr>\n",
       "  </tbody>\n",
       "</table>\n",
       "<p>5 rows × 21 columns</p>\n",
       "</div>"
      ],
      "text/plain": [
       "   customerID  gender  SeniorCitizen  Partner Dependents  tenure PhoneService  \\\n",
       "0  7590-VHVEG  Female              0        1         No       1           No   \n",
       "1  5575-GNVDE    Male              0        0         No      34          Yes   \n",
       "2  3668-QPYBK    Male              0        0         No       2          Yes   \n",
       "3  7795-CFOCW    Male              0        0         No      45           No   \n",
       "4  9237-HQITU  Female              0        0         No       2          Yes   \n",
       "\n",
       "      MultipleLines InternetService OnlineSecurity  ...  DeviceProtection  \\\n",
       "0  No phone service             DSL             No  ...                No   \n",
       "1                No             DSL            Yes  ...               Yes   \n",
       "2                No             DSL            Yes  ...                No   \n",
       "3  No phone service             DSL            Yes  ...               Yes   \n",
       "4                No     Fiber optic             No  ...                No   \n",
       "\n",
       "  TechSupport StreamingTV StreamingMovies        Contract PaperlessBilling  \\\n",
       "0          No          No              No  Month-to-month              Yes   \n",
       "1          No          No              No        One year               No   \n",
       "2          No          No              No  Month-to-month              Yes   \n",
       "3         Yes          No              No        One year               No   \n",
       "4          No          No              No  Month-to-month              Yes   \n",
       "\n",
       "               PaymentMethod MonthlyCharges  TotalCharges Churn  \n",
       "0           Electronic check          29.85         29.85     0  \n",
       "1               Mailed check          56.95        1889.5     0  \n",
       "2               Mailed check          53.85        108.15     1  \n",
       "3  Bank transfer (automatic)          42.30       1840.75     0  \n",
       "4           Electronic check          70.70        151.65     1  \n",
       "\n",
       "[5 rows x 21 columns]"
      ]
     },
     "execution_count": 23,
     "metadata": {},
     "output_type": "execute_result"
    }
   ],
   "source": [
    "\n",
    "df['Partner'] = df['Partner'].map({'Yes': 1, 'No': 0})\n",
    "df['Churn'] = df['Churn'].map({'Yes': 1, 'No': 0})\n",
    "df.head()"
   ]
  },
  {
   "cell_type": "markdown",
   "metadata": {},
   "source": [
    "#  27% Churn: \n",
    "- need to discuss whether we have a prior or some kind of industry benchmark (\"punto de referencia\") \n",
    "\n",
    "- other industries have MUCH higher churn rate.  Explain if this dataset is industry-standard\n"
   ]
  },
  {
   "cell_type": "code",
   "execution_count": 16,
   "metadata": {
    "collapsed": false
   },
   "outputs": [
    {
     "name": "stdout",
     "output_type": "stream",
     "text": [
      "0\n"
     ]
    }
   ],
   "source": [
    "import math\n",
    "print(5174/7043)\n",
    ".734"
   ]
  },
  {
   "cell_type": "markdown",
   "metadata": {
    "collapsed": true
   },
   "source": [
    "# What are are the Correlations? "
   ]
  },
  {
   "cell_type": "code",
   "execution_count": 1,
   "metadata": {
    "collapsed": true
   },
   "outputs": [],
   "source": [
    "import numpy as np\n",
    "import matplotlib.pyplot as plt\n",
    "import statsmodels.graphics.api as smg"
   ]
  },
  {
   "cell_type": "code",
   "execution_count": 18,
   "metadata": {
    "collapsed": false
   },
   "outputs": [
    {
     "data": {
      "text/html": [
       "<div>\n",
       "<table border=\"1\" class=\"dataframe\">\n",
       "  <thead>\n",
       "    <tr style=\"text-align: right;\">\n",
       "      <th></th>\n",
       "      <th>tenure</th>\n",
       "      <th>Churn</th>\n",
       "    </tr>\n",
       "  </thead>\n",
       "  <tbody>\n",
       "    <tr>\n",
       "      <th>0</th>\n",
       "      <td>1</td>\n",
       "      <td>0</td>\n",
       "    </tr>\n",
       "    <tr>\n",
       "      <th>1</th>\n",
       "      <td>34</td>\n",
       "      <td>0</td>\n",
       "    </tr>\n",
       "    <tr>\n",
       "      <th>2</th>\n",
       "      <td>2</td>\n",
       "      <td>1</td>\n",
       "    </tr>\n",
       "    <tr>\n",
       "      <th>3</th>\n",
       "      <td>45</td>\n",
       "      <td>0</td>\n",
       "    </tr>\n",
       "    <tr>\n",
       "      <th>4</th>\n",
       "      <td>2</td>\n",
       "      <td>1</td>\n",
       "    </tr>\n",
       "  </tbody>\n",
       "</table>\n",
       "</div>"
      ],
      "text/plain": [
       "   tenure  Churn\n",
       "0       1      0\n",
       "1      34      0\n",
       "2       2      1\n",
       "3      45      0\n",
       "4       2      1"
      ]
     },
     "execution_count": 18,
     "metadata": {},
     "output_type": "execute_result"
    }
   ],
   "source": [
    "churn_data = df[['tenure', \"Churn\"]]\n",
    "# df[['A', 'B']]\n",
    "churn_data.head()"
   ]
  },
  {
   "cell_type": "code",
   "execution_count": 21,
   "metadata": {
    "collapsed": false
   },
   "outputs": [
    {
     "data": {
      "image/png": "iVBORw0KGgoAAAANSUhEUgAAAVEAAAEcCAYAAAB+sIfwAAAABHNCSVQICAgIfAhkiAAAAAlwSFlz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\nQbN0AAAAAElFTkSuQmCC\n",
      "text/plain": [
       "<matplotlib.figure.Figure at 0x110df9ed0>"
      ]
     },
     "metadata": {},
     "output_type": "display_data"
    }
   ],
   "source": [
    "\n",
    "corr_matrix = np.corrcoef(churn_data.T)\n",
    "smg.plot_corr(corr_matrix, xnames=churn_data)\n",
    "plt.show()"
   ]
  },
  {
   "cell_type": "markdown",
   "metadata": {},
   "source": [
    "# CODE COMODE"
   ]
  },
  {
   "cell_type": "code",
   "execution_count": null,
   "metadata": {
    "collapsed": true
   },
   "outputs": [],
   "source": [
    "# for i in df:\n",
    "#     if i == \"Yes\":\n",
    "#         i = 1\n",
    "#     elif i == \"No\":\n",
    "#         i = 0\n",
    "\n",
    "# pd.Series(map(lambda x: dict(Yes=1, No=0)[x],\n",
    "#               df.Partner.values.tolist()), df.index)\n",
    "\n"
   ]
  },
  {
   "cell_type": "code",
   "execution_count": null,
   "metadata": {
    "collapsed": true
   },
   "outputs": [],
   "source": []
  }
 ],
 "metadata": {
  "anaconda-cloud": {},
  "kernelspec": {
   "display_name": "Python [default]",
   "language": "python",
   "name": "python2"
  },
  "language_info": {
   "codemirror_mode": {
    "name": "ipython",
    "version": 2
   },
   "file_extension": ".py",
   "mimetype": "text/x-python",
   "name": "python",
   "nbconvert_exporter": "python",
   "pygments_lexer": "ipython2",
   "version": "2.7.12"
  }
 },
 "nbformat": 4,
 "nbformat_minor": 2
}
