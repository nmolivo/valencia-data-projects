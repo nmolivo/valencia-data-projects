{
 "cells": [
  {
   "cell_type": "code",
   "execution_count": 1,
   "metadata": {
    "collapsed": true
   },
   "outputs": [],
   "source": [
    "import pandas as pd\n",
    "import numpy as np"
   ]
  },
  {
   "cell_type": "code",
   "execution_count": 6,
   "metadata": {
    "collapsed": false
   },
   "outputs": [],
   "source": [
    "data = pd.read_csv(filepath_or_buffer = 'isoc_bde15dec.tsv', sep = \"\\t\")"
   ]
  },
  {
   "cell_type": "code",
   "execution_count": 7,
   "metadata": {
    "collapsed": false
   },
   "outputs": [
    {
     "data": {
      "text/html": [
       "<div>\n",
       "<style>\n",
       "    .dataframe thead tr:only-child th {\n",
       "        text-align: right;\n",
       "    }\n",
       "\n",
       "    .dataframe thead th {\n",
       "        text-align: left;\n",
       "    }\n",
       "\n",
       "    .dataframe tbody tr th {\n",
       "        vertical-align: top;\n",
       "    }\n",
       "</style>\n",
       "<table border=\"1\" class=\"dataframe\">\n",
       "  <thead>\n",
       "    <tr style=\"text-align: right;\">\n",
       "      <th></th>\n",
       "      <th>unit,sizen_r2,indic_is,geo\\time</th>\n",
       "      <th>2017</th>\n",
       "      <th>2016</th>\n",
       "      <th>2015</th>\n",
       "      <th>2014</th>\n",
       "      <th>2013</th>\n",
       "      <th>2012</th>\n",
       "      <th>2011</th>\n",
       "      <th>2010</th>\n",
       "      <th>2009</th>\n",
       "    </tr>\n",
       "  </thead>\n",
       "  <tbody>\n",
       "    <tr>\n",
       "      <th>0</th>\n",
       "      <td>PC_ENT,10_C10_18,E_AEBEU,AT</td>\n",
       "      <td>:</td>\n",
       "      <td>:</td>\n",
       "      <td>:</td>\n",
       "      <td>:</td>\n",
       "      <td>:</td>\n",
       "      <td>:</td>\n",
       "      <td>34</td>\n",
       "      <td>:</td>\n",
       "      <td>12</td>\n",
       "    </tr>\n",
       "    <tr>\n",
       "      <th>1</th>\n",
       "      <td>PC_ENT,10_C10_18,E_AEBEU,BE</td>\n",
       "      <td>:</td>\n",
       "      <td>:</td>\n",
       "      <td>:</td>\n",
       "      <td>:</td>\n",
       "      <td>:</td>\n",
       "      <td>:</td>\n",
       "      <td>18</td>\n",
       "      <td>:</td>\n",
       "      <td>: u</td>\n",
       "    </tr>\n",
       "    <tr>\n",
       "      <th>2</th>\n",
       "      <td>PC_ENT,10_C10_18,E_AEBEU,BG</td>\n",
       "      <td>2</td>\n",
       "      <td>:</td>\n",
       "      <td>3</td>\n",
       "      <td>:</td>\n",
       "      <td>1</td>\n",
       "      <td>:</td>\n",
       "      <td>1</td>\n",
       "      <td>:</td>\n",
       "      <td>1</td>\n",
       "    </tr>\n",
       "    <tr>\n",
       "      <th>3</th>\n",
       "      <td>PC_ENT,10_C10_18,E_AEBEU,CY</td>\n",
       "      <td>9</td>\n",
       "      <td>:</td>\n",
       "      <td>18</td>\n",
       "      <td>:</td>\n",
       "      <td>9</td>\n",
       "      <td>:</td>\n",
       "      <td>16</td>\n",
       "      <td>:</td>\n",
       "      <td>21</td>\n",
       "    </tr>\n",
       "    <tr>\n",
       "      <th>4</th>\n",
       "      <td>PC_ENT,10_C10_18,E_AEBEU,CZ</td>\n",
       "      <td>20</td>\n",
       "      <td>:</td>\n",
       "      <td>15</td>\n",
       "      <td>:</td>\n",
       "      <td>13</td>\n",
       "      <td>:</td>\n",
       "      <td>11</td>\n",
       "      <td>:</td>\n",
       "      <td>5</td>\n",
       "    </tr>\n",
       "  </tbody>\n",
       "</table>\n",
       "</div>"
      ],
      "text/plain": [
       "  unit,sizen_r2,indic_is,geo\\time 2017  2016  2015  2014  2013  2012  2011   \\\n",
       "0     PC_ENT,10_C10_18,E_AEBEU,AT    :     :     :     :     :     :    34    \n",
       "1     PC_ENT,10_C10_18,E_AEBEU,BE    :     :     :     :     :     :    18    \n",
       "2     PC_ENT,10_C10_18,E_AEBEU,BG    2     :     3     :     1     :     1    \n",
       "3     PC_ENT,10_C10_18,E_AEBEU,CY    9     :    18     :     9     :    16    \n",
       "4     PC_ENT,10_C10_18,E_AEBEU,CZ   20     :    15     :    13     :    11    \n",
       "\n",
       "  2010  2009   \n",
       "0    :    12   \n",
       "1    :    : u  \n",
       "2    :     1   \n",
       "3    :    21   \n",
       "4    :     5   "
      ]
     },
     "execution_count": 7,
     "metadata": {},
     "output_type": "execute_result"
    }
   ],
   "source": [
    "data.head()"
   ]
  },
  {
   "cell_type": "code",
   "execution_count": null,
   "metadata": {
    "collapsed": true
   },
   "outputs": [],
   "source": []
  }
 ],
 "metadata": {
  "anaconda-cloud": {},
  "kernelspec": {
   "display_name": "Python [conda root]",
   "language": "python",
   "name": "conda-root-py"
  },
  "language_info": {
   "codemirror_mode": {
    "name": "ipython",
    "version": 3
   },
   "file_extension": ".py",
   "mimetype": "text/x-python",
   "name": "python",
   "nbconvert_exporter": "python",
   "pygments_lexer": "ipython3",
   "version": "3.5.2"
  }
 },
 "nbformat": 4,
 "nbformat_minor": 2
}
